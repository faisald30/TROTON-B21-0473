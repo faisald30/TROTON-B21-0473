{
  "nbformat": 4,
  "nbformat_minor": 0,
  "metadata": {
    "colab": {
      "name": "Coba2 Facemask Model 1.ipynb",
      "provenance": [],
      "authorship_tag": "ABX9TyOcdhfSSVqh/T9FJPGH6DO2",
      "include_colab_link": true
    },
    "kernelspec": {
      "name": "python3",
      "display_name": "Python 3"
    },
    "language_info": {
      "name": "python"
    }
  },
  "cells": [
    {
      "cell_type": "markdown",
      "metadata": {
        "id": "view-in-github",
        "colab_type": "text"
      },
      "source": [
        "<a href=\"https://colab.research.google.com/github/faisald30/TROTON-B21-0473/blob/main/Coba2_Facemask_Model_1.ipynb\" target=\"_parent\"><img src=\"https://colab.research.google.com/assets/colab-badge.svg\" alt=\"Open In Colab\"/></a>"
      ]
    },
    {
      "cell_type": "markdown",
      "metadata": {
        "id": "EJk-Wyip5azV"
      },
      "source": [
        "**0. Pre-Tahap nge establish semua Path**"
      ]
    },
    {
      "cell_type": "code",
      "metadata": {
        "id": "mQFC6EY9RZej"
      },
      "source": [
        ""
      ],
      "execution_count": null,
      "outputs": []
    },
    {
      "cell_type": "markdown",
      "metadata": {
        "id": "IvIwPOJmL8Y_"
      },
      "source": [
        "**1. Label Map**"
      ]
    },
    {
      "cell_type": "markdown",
      "metadata": {
        "id": "QZP2L7-6L8T5"
      },
      "source": [
        "**2. Create TF records**"
      ]
    },
    {
      "cell_type": "markdown",
      "metadata": {
        "id": "OkESg6KoL8EV"
      },
      "source": [
        "**3. Download TF Models, Pretrained Models dari TensorFlow Model Zoo**"
      ]
    },
    {
      "cell_type": "markdown",
      "metadata": {
        "id": "fiHFFJavL78w"
      },
      "source": [
        "**4. Copy Model Config to Training Folder**"
      ]
    },
    {
      "cell_type": "markdown",
      "metadata": {
        "id": "mzZU3LfX5aHw"
      },
      "source": [
        "**5. Update Config for Transfer Learning**"
      ]
    },
    {
      "cell_type": "markdown",
      "metadata": {
        "id": "p9ayaRVl6-oI"
      },
      "source": [
        "**6. Fase Training Model**"
      ]
    },
    {
      "cell_type": "markdown",
      "metadata": {
        "id": "zmKPWesQNl5s"
      },
      "source": [
        "**7. Load Train Model From Checkpoint**"
      ]
    },
    {
      "cell_type": "markdown",
      "metadata": {
        "id": "RjiqGcEkNpm9"
      },
      "source": [
        "**8.Detect in Real-Time**"
      ]
    }
  ]
}